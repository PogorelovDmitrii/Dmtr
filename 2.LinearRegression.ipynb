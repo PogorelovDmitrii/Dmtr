{
 "cells": [
  {
   "cell_type": "code",
   "execution_count": 32,
   "id": "e8378e77",
   "metadata": {},
   "outputs": [],
   "source": [
    "import numpy as np\n",
    "import matplotlib.pyplot as plt\n",
    "import pandas as pd"
   ]
  },
  {
   "cell_type": "code",
   "execution_count": 33,
   "id": "32a094ed",
   "metadata": {},
   "outputs": [
    {
     "data": {
      "text/html": [
       "<div>\n",
       "<style scoped>\n",
       "    .dataframe tbody tr th:only-of-type {\n",
       "        vertical-align: middle;\n",
       "    }\n",
       "\n",
       "    .dataframe tbody tr th {\n",
       "        vertical-align: top;\n",
       "    }\n",
       "\n",
       "    .dataframe thead th {\n",
       "        text-align: right;\n",
       "    }\n",
       "</style>\n",
       "<table border=\"1\" class=\"dataframe\">\n",
       "  <thead>\n",
       "    <tr style=\"text-align: right;\">\n",
       "      <th></th>\n",
       "      <th>model</th>\n",
       "      <th>year</th>\n",
       "      <th>price</th>\n",
       "      <th>type</th>\n",
       "      <th>distance</th>\n",
       "      <th>fuel</th>\n",
       "      <th>tax</th>\n",
       "      <th>miles per galoon</th>\n",
       "      <th>size</th>\n",
       "    </tr>\n",
       "  </thead>\n",
       "  <tbody>\n",
       "    <tr>\n",
       "      <th>0</th>\n",
       "      <td>7</td>\n",
       "      <td>2016</td>\n",
       "      <td>21995.0</td>\n",
       "      <td>2</td>\n",
       "      <td>28526.0</td>\n",
       "      <td>0</td>\n",
       "      <td>160</td>\n",
       "      <td>50.4</td>\n",
       "      <td>2.0</td>\n",
       "    </tr>\n",
       "    <tr>\n",
       "      <th>1</th>\n",
       "      <td>2</td>\n",
       "      <td>2015</td>\n",
       "      <td>13995.0</td>\n",
       "      <td>1</td>\n",
       "      <td>27016.0</td>\n",
       "      <td>0</td>\n",
       "      <td>30</td>\n",
       "      <td>62.8</td>\n",
       "      <td>2.0</td>\n",
       "    </tr>\n",
       "    <tr>\n",
       "      <th>2</th>\n",
       "      <td>2</td>\n",
       "      <td>2016</td>\n",
       "      <td>18498.0</td>\n",
       "      <td>2</td>\n",
       "      <td>29845.0</td>\n",
       "      <td>1</td>\n",
       "      <td>160</td>\n",
       "      <td>45.6</td>\n",
       "      <td>2.0</td>\n",
       "    </tr>\n",
       "    <tr>\n",
       "      <th>3</th>\n",
       "      <td>3</td>\n",
       "      <td>2017</td>\n",
       "      <td>20000.0</td>\n",
       "      <td>0</td>\n",
       "      <td>44783.0</td>\n",
       "      <td>0</td>\n",
       "      <td>145</td>\n",
       "      <td>62.8</td>\n",
       "      <td>2.0</td>\n",
       "    </tr>\n",
       "    <tr>\n",
       "      <th>4</th>\n",
       "      <td>7</td>\n",
       "      <td>2014</td>\n",
       "      <td>12300.0</td>\n",
       "      <td>0</td>\n",
       "      <td>43195.0</td>\n",
       "      <td>0</td>\n",
       "      <td>200</td>\n",
       "      <td>47.9</td>\n",
       "      <td>2.0</td>\n",
       "    </tr>\n",
       "    <tr>\n",
       "      <th>...</th>\n",
       "      <td>...</td>\n",
       "      <td>...</td>\n",
       "      <td>...</td>\n",
       "      <td>...</td>\n",
       "      <td>...</td>\n",
       "      <td>...</td>\n",
       "      <td>...</td>\n",
       "      <td>...</td>\n",
       "      <td>...</td>\n",
       "    </tr>\n",
       "    <tr>\n",
       "      <th>295</th>\n",
       "      <td>3</td>\n",
       "      <td>2017</td>\n",
       "      <td>18700.0</td>\n",
       "      <td>1</td>\n",
       "      <td>20052.0</td>\n",
       "      <td>1</td>\n",
       "      <td>145</td>\n",
       "      <td>49.6</td>\n",
       "      <td>2.0</td>\n",
       "    </tr>\n",
       "    <tr>\n",
       "      <th>296</th>\n",
       "      <td>3</td>\n",
       "      <td>2015</td>\n",
       "      <td>17498.0</td>\n",
       "      <td>2</td>\n",
       "      <td>35903.0</td>\n",
       "      <td>0</td>\n",
       "      <td>145</td>\n",
       "      <td>56.5</td>\n",
       "      <td>2.0</td>\n",
       "    </tr>\n",
       "    <tr>\n",
       "      <th>297</th>\n",
       "      <td>1</td>\n",
       "      <td>2019</td>\n",
       "      <td>19995.0</td>\n",
       "      <td>1</td>\n",
       "      <td>7307.0</td>\n",
       "      <td>0</td>\n",
       "      <td>145</td>\n",
       "      <td>51.4</td>\n",
       "      <td>1.6</td>\n",
       "    </tr>\n",
       "    <tr>\n",
       "      <th>298</th>\n",
       "      <td>7</td>\n",
       "      <td>2015</td>\n",
       "      <td>17498.0</td>\n",
       "      <td>2</td>\n",
       "      <td>40256.0</td>\n",
       "      <td>0</td>\n",
       "      <td>160</td>\n",
       "      <td>50.4</td>\n",
       "      <td>2.0</td>\n",
       "    </tr>\n",
       "    <tr>\n",
       "      <th>299</th>\n",
       "      <td>6</td>\n",
       "      <td>2019</td>\n",
       "      <td>22995.0</td>\n",
       "      <td>0</td>\n",
       "      <td>2402.0</td>\n",
       "      <td>0</td>\n",
       "      <td>145</td>\n",
       "      <td>47.9</td>\n",
       "      <td>1.6</td>\n",
       "    </tr>\n",
       "  </tbody>\n",
       "</table>\n",
       "<p>300 rows × 9 columns</p>\n",
       "</div>"
      ],
      "text/plain": [
       "     model  year    price  type  distance  fuel  tax  miles per galoon  size\n",
       "0        7  2016  21995.0     2   28526.0     0  160              50.4   2.0\n",
       "1        2  2015  13995.0     1   27016.0     0   30              62.8   2.0\n",
       "2        2  2016  18498.0     2   29845.0     1  160              45.6   2.0\n",
       "3        3  2017  20000.0     0   44783.0     0  145              62.8   2.0\n",
       "4        7  2014  12300.0     0   43195.0     0  200              47.9   2.0\n",
       "..     ...   ...      ...   ...       ...   ...  ...               ...   ...\n",
       "295      3  2017  18700.0     1   20052.0     1  145              49.6   2.0\n",
       "296      3  2015  17498.0     2   35903.0     0  145              56.5   2.0\n",
       "297      1  2019  19995.0     1    7307.0     0  145              51.4   1.6\n",
       "298      7  2015  17498.0     2   40256.0     0  160              50.4   2.0\n",
       "299      6  2019  22995.0     0    2402.0     0  145              47.9   1.6\n",
       "\n",
       "[300 rows x 9 columns]"
      ]
     },
     "execution_count": 33,
     "metadata": {},
     "output_type": "execute_result"
    }
   ],
   "source": [
    "df = pd.read_csv('cars1.csv', sep=',')\n",
    "df"
   ]
  },
  {
   "cell_type": "code",
   "execution_count": 34,
   "id": "dc62a92a",
   "metadata": {},
   "outputs": [
    {
     "data": {
      "text/html": [
       "<div>\n",
       "<style scoped>\n",
       "    .dataframe tbody tr th:only-of-type {\n",
       "        vertical-align: middle;\n",
       "    }\n",
       "\n",
       "    .dataframe tbody tr th {\n",
       "        vertical-align: top;\n",
       "    }\n",
       "\n",
       "    .dataframe thead th {\n",
       "        text-align: right;\n",
       "    }\n",
       "</style>\n",
       "<table border=\"1\" class=\"dataframe\">\n",
       "  <thead>\n",
       "    <tr style=\"text-align: right;\">\n",
       "      <th></th>\n",
       "      <th>model</th>\n",
       "      <th>year</th>\n",
       "      <th>type</th>\n",
       "      <th>distance</th>\n",
       "      <th>fuel</th>\n",
       "      <th>tax</th>\n",
       "      <th>miles per galoon</th>\n",
       "      <th>size</th>\n",
       "    </tr>\n",
       "  </thead>\n",
       "  <tbody>\n",
       "    <tr>\n",
       "      <th>0</th>\n",
       "      <td>7</td>\n",
       "      <td>2016</td>\n",
       "      <td>2</td>\n",
       "      <td>28526.0</td>\n",
       "      <td>0</td>\n",
       "      <td>160</td>\n",
       "      <td>50.4</td>\n",
       "      <td>2.0</td>\n",
       "    </tr>\n",
       "    <tr>\n",
       "      <th>1</th>\n",
       "      <td>2</td>\n",
       "      <td>2015</td>\n",
       "      <td>1</td>\n",
       "      <td>27016.0</td>\n",
       "      <td>0</td>\n",
       "      <td>30</td>\n",
       "      <td>62.8</td>\n",
       "      <td>2.0</td>\n",
       "    </tr>\n",
       "    <tr>\n",
       "      <th>2</th>\n",
       "      <td>2</td>\n",
       "      <td>2016</td>\n",
       "      <td>2</td>\n",
       "      <td>29845.0</td>\n",
       "      <td>1</td>\n",
       "      <td>160</td>\n",
       "      <td>45.6</td>\n",
       "      <td>2.0</td>\n",
       "    </tr>\n",
       "    <tr>\n",
       "      <th>3</th>\n",
       "      <td>3</td>\n",
       "      <td>2017</td>\n",
       "      <td>0</td>\n",
       "      <td>44783.0</td>\n",
       "      <td>0</td>\n",
       "      <td>145</td>\n",
       "      <td>62.8</td>\n",
       "      <td>2.0</td>\n",
       "    </tr>\n",
       "    <tr>\n",
       "      <th>4</th>\n",
       "      <td>7</td>\n",
       "      <td>2014</td>\n",
       "      <td>0</td>\n",
       "      <td>43195.0</td>\n",
       "      <td>0</td>\n",
       "      <td>200</td>\n",
       "      <td>47.9</td>\n",
       "      <td>2.0</td>\n",
       "    </tr>\n",
       "    <tr>\n",
       "      <th>...</th>\n",
       "      <td>...</td>\n",
       "      <td>...</td>\n",
       "      <td>...</td>\n",
       "      <td>...</td>\n",
       "      <td>...</td>\n",
       "      <td>...</td>\n",
       "      <td>...</td>\n",
       "      <td>...</td>\n",
       "    </tr>\n",
       "    <tr>\n",
       "      <th>295</th>\n",
       "      <td>3</td>\n",
       "      <td>2017</td>\n",
       "      <td>1</td>\n",
       "      <td>20052.0</td>\n",
       "      <td>1</td>\n",
       "      <td>145</td>\n",
       "      <td>49.6</td>\n",
       "      <td>2.0</td>\n",
       "    </tr>\n",
       "    <tr>\n",
       "      <th>296</th>\n",
       "      <td>3</td>\n",
       "      <td>2015</td>\n",
       "      <td>2</td>\n",
       "      <td>35903.0</td>\n",
       "      <td>0</td>\n",
       "      <td>145</td>\n",
       "      <td>56.5</td>\n",
       "      <td>2.0</td>\n",
       "    </tr>\n",
       "    <tr>\n",
       "      <th>297</th>\n",
       "      <td>1</td>\n",
       "      <td>2019</td>\n",
       "      <td>1</td>\n",
       "      <td>7307.0</td>\n",
       "      <td>0</td>\n",
       "      <td>145</td>\n",
       "      <td>51.4</td>\n",
       "      <td>1.6</td>\n",
       "    </tr>\n",
       "    <tr>\n",
       "      <th>298</th>\n",
       "      <td>7</td>\n",
       "      <td>2015</td>\n",
       "      <td>2</td>\n",
       "      <td>40256.0</td>\n",
       "      <td>0</td>\n",
       "      <td>160</td>\n",
       "      <td>50.4</td>\n",
       "      <td>2.0</td>\n",
       "    </tr>\n",
       "    <tr>\n",
       "      <th>299</th>\n",
       "      <td>6</td>\n",
       "      <td>2019</td>\n",
       "      <td>0</td>\n",
       "      <td>2402.0</td>\n",
       "      <td>0</td>\n",
       "      <td>145</td>\n",
       "      <td>47.9</td>\n",
       "      <td>1.6</td>\n",
       "    </tr>\n",
       "  </tbody>\n",
       "</table>\n",
       "<p>300 rows × 8 columns</p>\n",
       "</div>"
      ],
      "text/plain": [
       "     model  year  type  distance  fuel  tax  miles per galoon  size\n",
       "0        7  2016     2   28526.0     0  160              50.4   2.0\n",
       "1        2  2015     1   27016.0     0   30              62.8   2.0\n",
       "2        2  2016     2   29845.0     1  160              45.6   2.0\n",
       "3        3  2017     0   44783.0     0  145              62.8   2.0\n",
       "4        7  2014     0   43195.0     0  200              47.9   2.0\n",
       "..     ...   ...   ...       ...   ...  ...               ...   ...\n",
       "295      3  2017     1   20052.0     1  145              49.6   2.0\n",
       "296      3  2015     2   35903.0     0  145              56.5   2.0\n",
       "297      1  2019     1    7307.0     0  145              51.4   1.6\n",
       "298      7  2015     2   40256.0     0  160              50.4   2.0\n",
       "299      6  2019     0    2402.0     0  145              47.9   1.6\n",
       "\n",
       "[300 rows x 8 columns]"
      ]
     },
     "execution_count": 34,
     "metadata": {},
     "output_type": "execute_result"
    }
   ],
   "source": [
    "X = df.iloc[:, [True,True,False,True,True,True,True,True,True]]\n",
    "y = df['price']\n",
    "from sklearn.model_selection import train_test_split\n",
    "X_train, X_test, y_train, y_test = train_test_split(X, y, test_size=0.2, random_state=10)\n",
    "X"
   ]
  },
  {
   "cell_type": "code",
   "execution_count": 35,
   "id": "d0956ecc",
   "metadata": {},
   "outputs": [
    {
     "data": {
      "text/plain": [
       "(array([3236.07198805]), -6505793.102800729)"
      ]
     },
     "execution_count": 35,
     "metadata": {},
     "output_type": "execute_result"
    }
   ],
   "source": [
    "f1 = ['year']\n",
    "\n",
    "from sklearn.linear_model import LinearRegression\n",
    "sr = LinearRegression().fit(X_train[f1], y_train)\n",
    "\n",
    "sr.coef_, sr.intercept_"
   ]
  },
  {
   "cell_type": "markdown",
   "id": "dbda553f",
   "metadata": {},
   "source": [
    "Линейная регрессия имеет вид Цена = 3236.07198805*Год-6505793.102800729"
   ]
  },
  {
   "cell_type": "code",
   "execution_count": 36,
   "id": "8ee95f3d",
   "metadata": {},
   "outputs": [
    {
     "data": {
      "text/plain": [
       "(0.371, 0.523)"
      ]
     },
     "execution_count": 36,
     "metadata": {},
     "output_type": "execute_result"
    }
   ],
   "source": [
    "y_pred = sr.predict(X_test[f1])\n",
    "sr.score(X_train[f1], y_train).round(3), sr.score(X_test[f1], y_test).round(3)"
   ]
  },
  {
   "cell_type": "code",
   "execution_count": 37,
   "id": "0406a910",
   "metadata": {},
   "outputs": [
    {
     "data": {
      "text/plain": [
       "(6732.88, 6729.8)"
      ]
     },
     "execution_count": 37,
     "metadata": {},
     "output_type": "execute_result"
    }
   ],
   "source": [
    "from sklearn.metrics import mean_squared_error\n",
    "mean_squared_error(y_train, sr.predict(X_train[f1]), squared=False).round(2), mean_squared_error(y_test, y_pred, squared=False).round(2)"
   ]
  },
  {
   "cell_type": "code",
   "execution_count": 38,
   "id": "70fa3d60",
   "metadata": {},
   "outputs": [
    {
     "data": {
      "image/png": "[encoded data removed]",
      "text/plain": [
       "<Figure size 432x288 with 1 Axes>"
      ]
     },
     "metadata": {
      "needs_background": "light"
     },
     "output_type": "display_data"
    }
   ],
   "source": [
    "plt.scatter(X_test['year'], y_test, color = 'red')\n",
    "plt.plot(X_test['year'], sr.predict(X_test[f1]), 'bo')\n",
    "plt.title('Price & Year (Test set)')\n",
    "plt.xlabel('Year')\n",
    "plt.ylabel('Price')\n",
    "plt.show()"
   ]
  },
  {
   "cell_type": "markdown",
   "id": "095499d6",
   "metadata": {},
   "source": [
    "График показал, чем моложе автомобиль, тем выше его цена"
   ]
  },
  {
   "cell_type": "code",
   "execution_count": 39,
   "id": "9fbd270b",
   "metadata": {},
   "outputs": [
    {
     "data": {
      "text/plain": [
       "0.838"
      ]
     },
     "execution_count": 39,
     "metadata": {},
     "output_type": "execute_result"
    }
   ],
   "source": [
    "mr = LinearRegression().fit(X_train, y_train)\n",
    "mr.score(X_train, y_train).round(3)"
   ]
  },
  {
   "cell_type": "markdown",
   "id": "51d98fa3",
   "metadata": {},
   "source": [
    "Коэффициент регрессии = 0,838"
   ]
  },
  {
   "cell_type": "code",
   "execution_count": 40,
   "id": "e85b9558",
   "metadata": {},
   "outputs": [
    {
     "data": {
      "image/png": "[encoded data removed]",
      "text/plain": [
       "<Figure size 432x288 with 1 Axes>"
      ]
     },
     "metadata": {
      "needs_background": "light"
     },
     "output_type": "display_data"
    }
   ],
   "source": [
    "# Visualising the Test set results\n",
    "plt.scatter(X_test['year'], y_test, color = 'red')\n",
    "plt.plot(X_test['year'], mr.predict(X_test), 'bo')\n",
    "plt.title('Price & Year')\n",
    "plt.xlabel('Year')\n",
    "plt.ylabel('Price')\n",
    "plt.show()"
   ]
  },
  {
   "cell_type": "code",
   "execution_count": 41,
   "id": "74d5bcf6",
   "metadata": {
    "scrolled": true
   },
   "outputs": [
    {
     "data": {
      "text/html": [
       "<table class=\"simpletable\">\n",
       "<caption>OLS Regression Results</caption>\n",
       "<tr>\n",
       "  <th>Dep. Variable:</th>          <td>price</td>      <th>  R-squared:         </th> <td>   0.838</td>\n",
       "</tr>\n",
       "<tr>\n",
       "  <th>Model:</th>                   <td>OLS</td>       <th>  Adj. R-squared:    </th> <td>   0.833</td>\n",
       "</tr>\n",
       "<tr>\n",
       "  <th>Method:</th>             <td>Least Squares</td>  <th>  F-statistic:       </th> <td>   149.5</td>\n",
       "</tr>\n",
       "<tr>\n",
       "  <th>Date:</th>             <td>Tue, 21 Dec 2021</td> <th>  Prob (F-statistic):</th> <td>7.15e-87</td>\n",
       "</tr>\n",
       "<tr>\n",
       "  <th>Time:</th>                 <td>10:12:42</td>     <th>  Log-Likelihood:    </th> <td> -2293.2</td>\n",
       "</tr>\n",
       "<tr>\n",
       "  <th>No. Observations:</th>      <td>   240</td>      <th>  AIC:               </th> <td>   4604.</td>\n",
       "</tr>\n",
       "<tr>\n",
       "  <th>Df Residuals:</th>          <td>   231</td>      <th>  BIC:               </th> <td>   4636.</td>\n",
       "</tr>\n",
       "<tr>\n",
       "  <th>Df Model:</th>              <td>     8</td>      <th>                     </th>     <td> </td>   \n",
       "</tr>\n",
       "<tr>\n",
       "  <th>Covariance Type:</th>      <td>nonrobust</td>    <th>                     </th>     <td> </td>   \n",
       "</tr>\n",
       "</table>\n",
       "<table class=\"simpletable\">\n",
       "<tr>\n",
       "          <td></td>            <th>coef</th>     <th>std err</th>      <th>t</th>      <th>P>|t|</th>  <th>[0.025</th>    <th>0.975]</th>  \n",
       "</tr>\n",
       "<tr>\n",
       "  <th>const</th>            <td>-3.768e+06</td> <td> 3.98e+05</td> <td>   -9.457</td> <td> 0.000</td> <td>-4.55e+06</td> <td>-2.98e+06</td>\n",
       "</tr>\n",
       "<tr>\n",
       "  <th>model</th>            <td>  225.4543</td> <td>  102.964</td> <td>    2.190</td> <td> 0.030</td> <td>   22.585</td> <td>  428.323</td>\n",
       "</tr>\n",
       "<tr>\n",
       "  <th>year</th>             <td> 1882.4842</td> <td>  197.143</td> <td>    9.549</td> <td> 0.000</td> <td> 1494.056</td> <td> 2270.912</td>\n",
       "</tr>\n",
       "<tr>\n",
       "  <th>type</th>             <td> 1423.0793</td> <td>  331.778</td> <td>    4.289</td> <td> 0.000</td> <td>  769.381</td> <td> 2076.777</td>\n",
       "</tr>\n",
       "<tr>\n",
       "  <th>distance</th>         <td>   -0.0995</td> <td>    0.017</td> <td>   -5.919</td> <td> 0.000</td> <td>   -0.133</td> <td>   -0.066</td>\n",
       "</tr>\n",
       "<tr>\n",
       "  <th>fuel</th>             <td>-2573.9361</td> <td>  763.728</td> <td>   -3.370</td> <td> 0.001</td> <td>-4078.700</td> <td>-1069.172</td>\n",
       "</tr>\n",
       "<tr>\n",
       "  <th>tax</th>              <td>  -14.1916</td> <td>    5.262</td> <td>   -2.697</td> <td> 0.008</td> <td>  -24.560</td> <td>   -3.823</td>\n",
       "</tr>\n",
       "<tr>\n",
       "  <th>miles per galoon</th> <td> -315.8607</td> <td>   45.405</td> <td>   -6.956</td> <td> 0.000</td> <td> -405.322</td> <td> -226.399</td>\n",
       "</tr>\n",
       "<tr>\n",
       "  <th>size</th>             <td> 6160.5320</td> <td>  721.958</td> <td>    8.533</td> <td> 0.000</td> <td> 4738.068</td> <td> 7582.996</td>\n",
       "</tr>\n",
       "</table>\n",
       "<table class=\"simpletable\">\n",
       "<tr>\n",
       "  <th>Omnibus:</th>       <td>30.200</td> <th>  Durbin-Watson:     </th> <td>   1.820</td>\n",
       "</tr>\n",
       "<tr>\n",
       "  <th>Prob(Omnibus):</th> <td> 0.000</td> <th>  Jarque-Bera (JB):  </th> <td>  94.112</td>\n",
       "</tr>\n",
       "<tr>\n",
       "  <th>Skew:</th>          <td> 0.476</td> <th>  Prob(JB):          </th> <td>3.66e-21</td>\n",
       "</tr>\n",
       "<tr>\n",
       "  <th>Kurtosis:</th>      <td> 5.916</td> <th>  Cond. No.          </th> <td>5.93e+07</td>\n",
       "</tr>\n",
       "</table><br/><br/>Notes:<br/>[1] Standard Errors assume that the covariance matrix of the errors is correctly specified.<br/>[2] The condition number is large, 5.93e+07. This might indicate that there are<br/>strong multicollinearity or other numerical problems."
      ],
      "text/plain": [
       "<class 'statsmodels.iolib.summary.Summary'>\n",
       "\"\"\"\n",
       "                            OLS Regression Results                            \n",
       "==============================================================================\n",
       "Dep. Variable:                  price   R-squared:                       0.838\n",
       "Model:                            OLS   Adj. R-squared:                  0.833\n",
       "Method:                 Least Squares   F-statistic:                     149.5\n",
       "Date:                Tue, 21 Dec 2021   Prob (F-statistic):           7.15e-87\n",
       "Time:                        10:12:42   Log-Likelihood:                -2293.2\n",
       "No. Observations:                 240   AIC:                             4604.\n",
       "Df Residuals:                     231   BIC:                             4636.\n",
       "Df Model:                           8                                         \n",
       "Covariance Type:            nonrobust                                         \n",
       "====================================================================================\n",
       "                       coef    std err          t      P>|t|      [0.025      0.975]\n",
       "------------------------------------------------------------------------------------\n",
       "const            -3.768e+06   3.98e+05     -9.457      0.000   -4.55e+06   -2.98e+06\n",
       "model              225.4543    102.964      2.190      0.030      22.585     428.323\n",
       "year              1882.4842    197.143      9.549      0.000    1494.056    2270.912\n",
       "type              1423.0793    331.778      4.289      0.000     769.381    2076.777\n",
       "distance            -0.0995      0.017     -5.919      0.000      -0.133      -0.066\n",
       "fuel             -2573.9361    763.728     -3.370      0.001   -4078.700   -1069.172\n",
       "tax                -14.1916      5.262     -2.697      0.008     -24.560      -3.823\n",
       "miles per galoon  -315.8607     45.405     -6.956      0.000    -405.322    -226.399\n",
       "size              6160.5320    721.958      8.533      0.000    4738.068    7582.996\n",
       "==============================================================================\n",
       "Omnibus:                       30.200   Durbin-Watson:                   1.820\n",
       "Prob(Omnibus):                  0.000   Jarque-Bera (JB):               94.112\n",
       "Skew:                           0.476   Prob(JB):                     3.66e-21\n",
       "Kurtosis:                       5.916   Cond. No.                     5.93e+07\n",
       "==============================================================================\n",
       "\n",
       "Notes:\n",
       "[1] Standard Errors assume that the covariance matrix of the errors is correctly specified.\n",
       "[2] The condition number is large, 5.93e+07. This might indicate that there are\n",
       "strong multicollinearity or other numerical problems.\n",
       "\"\"\""
      ]
     },
     "execution_count": 41,
     "metadata": {},
     "output_type": "execute_result"
    }
   ],
   "source": [
    "# Checking p-values\n",
    "import statsmodels.api as sm\n",
    "X1 = sm.add_constant(X_train)\n",
    "mr1 = sm.OLS(y_train, X1).fit()\n",
    "#mr1.pvalues\n",
    "mr1.summary()"
   ]
  },
  {
   "cell_type": "markdown",
   "id": "fd442a7c",
   "metadata": {},
   "source": [
    "Число обусловленности большое и равно 5.93e+07. Это может указывать на то, что есть\n",
    "сильная мультиколлинеарность или другие числовые проблемы."
   ]
  },
  {
   "cell_type": "code",
   "execution_count": 42,
   "id": "00b88a37",
   "metadata": {},
   "outputs": [
    {
     "data": {
      "text/plain": [
       "(array([ 5.76922165e+06,  8.62520554e+04,  9.13596183e+03, -2.25443096e+05,\n",
       "        -2.39802145e+01,  2.19167718e+06, -2.60969770e+03,  2.71512724e+05,\n",
       "         2.36830326e+05, -1.49995225e+02, -4.44692903e+01,  3.55219671e+02,\n",
       "        -7.15302331e-03,  6.92072014e+02,  5.55235568e+00,  4.37662100e+01,\n",
       "         8.03343328e+02,  1.70990208e-01,  1.06750345e+02,  1.18471558e-02,\n",
       "        -2.16796996e+03,  1.21177250e+00, -1.34728287e+02, -9.94851032e+01,\n",
       "         1.68004708e+03,  8.43838485e-03,  1.79259113e+03, -4.74550582e-01,\n",
       "         9.91338685e+01,  2.57473759e+02,  4.03932063e-07, -3.28141805e-02,\n",
       "         4.82768584e-04,  1.45247510e-03, -6.28321599e-02,  2.19166498e+06,\n",
       "        -4.87523694e+00, -7.25608493e+01, -6.11403731e+03,  4.91255893e-01,\n",
       "         2.05351264e+00, -3.96502475e+01,  1.51940990e+00, -3.58363331e+02,\n",
       "        -1.67253921e+03]),\n",
       " -24880219.010541312)"
      ]
     },
     "execution_count": 42,
     "metadata": {},
     "output_type": "execute_result"
    }
   ],
   "source": [
    "# Fitting Polynomial Regression to the dataset\n",
    "from sklearn.preprocessing import PolynomialFeatures\n",
    "X_train_p = PolynomialFeatures().fit_transform(X_train)\n",
    "X_test_p = PolynomialFeatures().fit_transform(X_test)\n",
    "\n",
    "pr = LinearRegression().fit(X_train_p, y_train)\n",
    "\n",
    "# Getting parameters\n",
    "pr.coef_, pr.intercept_"
   ]
  },
  {
   "cell_type": "code",
   "execution_count": 43,
   "id": "b83cd101",
   "metadata": {},
   "outputs": [
    {
     "data": {
      "text/plain": [
       "0.924"
      ]
     },
     "execution_count": 43,
     "metadata": {},
     "output_type": "execute_result"
    }
   ],
   "source": [
    "# Predicting the Test set results\n",
    "y_pred = pr.predict(X_test_p)\n",
    "\n",
    "# Coefficient of determination R^2\n",
    "pr.score(X_train_p, y_train).round(3)"
   ]
  },
  {
   "cell_type": "markdown",
   "id": "e637ba06",
   "metadata": {},
   "source": [
    "R^2 лучше для множественной линейной регресси."
   ]
  },
  {
   "cell_type": "code",
   "execution_count": 44,
   "id": "f68514a7",
   "metadata": {},
   "outputs": [
    {
     "data": {
      "text/plain": [
       "(2342.43, 3021.41)"
      ]
     },
     "execution_count": 44,
     "metadata": {},
     "output_type": "execute_result"
    }
   ],
   "source": [
    "# Mean squared error\n",
    "mean_squared_error(y_train, pr.predict(X_train_p), squared=False).round(2), mean_squared_error(y_test, y_pred, squared=False).round(2)"
   ]
  },
  {
   "cell_type": "code",
   "execution_count": 45,
   "id": "abefca45",
   "metadata": {},
   "outputs": [
    {
     "data": {
      "image/png": "[encoded data removed]",
      "text/plain": [
       "<Figure size 432x288 with 1 Axes>"
      ]
     },
     "metadata": {
      "needs_background": "light"
     },
     "output_type": "display_data"
    }
   ],
   "source": [
    "# Visualising the Test set results\n",
    "plt.scatter(X_test['year'], y_test, color = 'red')\n",
    "plt.plot(X_test['year'], pr.predict(X_test_p), 'bo')\n",
    "plt.title('Price vs year (Test set)')\n",
    "plt.xlabel('year')\n",
    "plt.ylabel('Price')\n",
    "plt.show()\n"
   ]
  },
  {
   "cell_type": "code",
   "execution_count": 46,
   "id": "cb0cc7d1",
   "metadata": {},
   "outputs": [],
   "source": [
    "import pickle\n",
    "obj = {'X_train': X_train, 'X_test': X_test,'y_train': y_train,'y_test': y_test}\n",
    "output = open('cars2.pkl', 'wb')\n",
    "pickle.dump(obj, output, 2)\n",
    "output.close()"
   ]
  },
  {
   "cell_type": "code",
   "execution_count": null,
   "id": "d5140b30",
   "metadata": {},
   "outputs": [],
   "source": []
  }
 ],
 "metadata": {
  "kernelspec": {
   "display_name": "Python 3",
   "language": "python",
   "name": "python3"
  },
  "language_info": {
   "codemirror_mode": {
    "name": "ipython",
    "version": 3
   },
   "file_extension": ".py",
   "mimetype": "text/x-python",
   "name": "python",
   "nbconvert_exporter": "python",
   "pygments_lexer": "ipython3",
   "version": "3.8.8"
  }
 },
 "nbformat": 4,
 "nbformat_minor": 5
}
