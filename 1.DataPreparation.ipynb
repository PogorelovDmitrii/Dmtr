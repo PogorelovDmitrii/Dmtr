{
 "cells": [
  {
   "cell_type": "code",
   "execution_count": 32,
   "id": "10b3968f",
   "metadata": {},
   "outputs": [],
   "source": [
    "import pandas as pd\n",
    "import numpy as np\n",
    "\n",
    "%matplotlib inline\n",
    "import matplotlib\n",
    "import matplotlib.pyplot as plt\n",
    "import seaborn as sns\n",
    "\n",
    "import zipfile\n",
    "\n",
    "import os\n",
    "from sklearn.model_selection import train_test_split \n",
    "\n",
    "for dirname, _, filenames in os.walk('audi_price(2020) data.csv'):\n",
    "    for filename in filenames:\n",
    "        print(os.path.join(dirname, filename))"
   ]
  },
  {
   "cell_type": "code",
   "execution_count": 33,
   "id": "b44544e8",
   "metadata": {},
   "outputs": [
    {
     "data": {
      "text/html": [
       "<div>\n",
       "<style scoped>\n",
       "    .dataframe tbody tr th:only-of-type {\n",
       "        vertical-align: middle;\n",
       "    }\n",
       "\n",
       "    .dataframe tbody tr th {\n",
       "        vertical-align: top;\n",
       "    }\n",
       "\n",
       "    .dataframe thead th {\n",
       "        text-align: right;\n",
       "    }\n",
       "</style>\n",
       "<table border=\"1\" class=\"dataframe\">\n",
       "  <thead>\n",
       "    <tr style=\"text-align: right;\">\n",
       "      <th></th>\n",
       "      <th>model</th>\n",
       "      <th>year</th>\n",
       "      <th>price</th>\n",
       "      <th>type</th>\n",
       "      <th>distance</th>\n",
       "      <th>fuel</th>\n",
       "      <th>tax</th>\n",
       "      <th>miles per galoon</th>\n",
       "      <th>size</th>\n",
       "    </tr>\n",
       "  </thead>\n",
       "  <tbody>\n",
       "    <tr>\n",
       "      <th>0</th>\n",
       "      <td>Q3</td>\n",
       "      <td>2016</td>\n",
       "      <td>21995</td>\n",
       "      <td>Semi-Auto</td>\n",
       "      <td>28526</td>\n",
       "      <td>Diesel</td>\n",
       "      <td>160</td>\n",
       "      <td>50.4</td>\n",
       "      <td>2.0</td>\n",
       "    </tr>\n",
       "    <tr>\n",
       "      <th>1</th>\n",
       "      <td>A4</td>\n",
       "      <td>2015</td>\n",
       "      <td>13995</td>\n",
       "      <td>Manual</td>\n",
       "      <td>27016</td>\n",
       "      <td>Diesel</td>\n",
       "      <td>30</td>\n",
       "      <td>62.8</td>\n",
       "      <td>2.0</td>\n",
       "    </tr>\n",
       "    <tr>\n",
       "      <th>2</th>\n",
       "      <td>A4</td>\n",
       "      <td>2016</td>\n",
       "      <td>18498</td>\n",
       "      <td>Semi-Auto</td>\n",
       "      <td>29845</td>\n",
       "      <td>Petrol</td>\n",
       "      <td>160</td>\n",
       "      <td>45.6</td>\n",
       "      <td>2.0</td>\n",
       "    </tr>\n",
       "    <tr>\n",
       "      <th>3</th>\n",
       "      <td>A5</td>\n",
       "      <td>2017</td>\n",
       "      <td>20000</td>\n",
       "      <td>Automatic</td>\n",
       "      <td>44783</td>\n",
       "      <td>Diesel</td>\n",
       "      <td>145</td>\n",
       "      <td>62.8</td>\n",
       "      <td>2.0</td>\n",
       "    </tr>\n",
       "    <tr>\n",
       "      <th>4</th>\n",
       "      <td>Q3</td>\n",
       "      <td>2014</td>\n",
       "      <td>12300</td>\n",
       "      <td>Automatic</td>\n",
       "      <td>43195</td>\n",
       "      <td>Diesel</td>\n",
       "      <td>200</td>\n",
       "      <td>47.9</td>\n",
       "      <td>2.0</td>\n",
       "    </tr>\n",
       "    <tr>\n",
       "      <th>...</th>\n",
       "      <td>...</td>\n",
       "      <td>...</td>\n",
       "      <td>...</td>\n",
       "      <td>...</td>\n",
       "      <td>...</td>\n",
       "      <td>...</td>\n",
       "      <td>...</td>\n",
       "      <td>...</td>\n",
       "      <td>...</td>\n",
       "    </tr>\n",
       "    <tr>\n",
       "      <th>295</th>\n",
       "      <td>A5</td>\n",
       "      <td>2017</td>\n",
       "      <td>18700</td>\n",
       "      <td>Manual</td>\n",
       "      <td>20052</td>\n",
       "      <td>Petrol</td>\n",
       "      <td>145</td>\n",
       "      <td>49.6</td>\n",
       "      <td>2.0</td>\n",
       "    </tr>\n",
       "    <tr>\n",
       "      <th>296</th>\n",
       "      <td>A5</td>\n",
       "      <td>2015</td>\n",
       "      <td>17498</td>\n",
       "      <td>Semi-Auto</td>\n",
       "      <td>35903</td>\n",
       "      <td>Diesel</td>\n",
       "      <td>145</td>\n",
       "      <td>56.5</td>\n",
       "      <td>2.0</td>\n",
       "    </tr>\n",
       "    <tr>\n",
       "      <th>297</th>\n",
       "      <td>A3</td>\n",
       "      <td>2019</td>\n",
       "      <td>19995</td>\n",
       "      <td>Manual</td>\n",
       "      <td>7307</td>\n",
       "      <td>Diesel</td>\n",
       "      <td>145</td>\n",
       "      <td>51.4</td>\n",
       "      <td>1.6</td>\n",
       "    </tr>\n",
       "    <tr>\n",
       "      <th>298</th>\n",
       "      <td>Q3</td>\n",
       "      <td>2015</td>\n",
       "      <td>17498</td>\n",
       "      <td>Semi-Auto</td>\n",
       "      <td>40256</td>\n",
       "      <td>Diesel</td>\n",
       "      <td>160</td>\n",
       "      <td>50.4</td>\n",
       "      <td>2.0</td>\n",
       "    </tr>\n",
       "    <tr>\n",
       "      <th>299</th>\n",
       "      <td>Q2</td>\n",
       "      <td>2019</td>\n",
       "      <td>22995</td>\n",
       "      <td>Automatic</td>\n",
       "      <td>2402</td>\n",
       "      <td>Diesel</td>\n",
       "      <td>145</td>\n",
       "      <td>47.9</td>\n",
       "      <td>1.6</td>\n",
       "    </tr>\n",
       "  </tbody>\n",
       "</table>\n",
       "<p>300 rows × 9 columns</p>\n",
       "</div>"
      ],
      "text/plain": [
       "    model  year  price       type  distance    fuel  tax  miles per galoon  \\\n",
       "0      Q3  2016  21995  Semi-Auto     28526  Diesel  160              50.4   \n",
       "1      A4  2015  13995     Manual     27016  Diesel   30              62.8   \n",
       "2      A4  2016  18498  Semi-Auto     29845  Petrol  160              45.6   \n",
       "3      A5  2017  20000  Automatic     44783  Diesel  145              62.8   \n",
       "4      Q3  2014  12300  Automatic     43195  Diesel  200              47.9   \n",
       "..    ...   ...    ...        ...       ...     ...  ...               ...   \n",
       "295    A5  2017  18700     Manual     20052  Petrol  145              49.6   \n",
       "296    A5  2015  17498  Semi-Auto     35903  Diesel  145              56.5   \n",
       "297    A3  2019  19995     Manual      7307  Diesel  145              51.4   \n",
       "298    Q3  2015  17498  Semi-Auto     40256  Diesel  160              50.4   \n",
       "299    Q2  2019  22995  Automatic      2402  Diesel  145              47.9   \n",
       "\n",
       "     size  \n",
       "0     2.0  \n",
       "1     2.0  \n",
       "2     2.0  \n",
       "3     2.0  \n",
       "4     2.0  \n",
       "..    ...  \n",
       "295   2.0  \n",
       "296   2.0  \n",
       "297   1.6  \n",
       "298   2.0  \n",
       "299   1.6  \n",
       "\n",
       "[300 rows x 9 columns]"
      ]
     },
     "execution_count": 33,
     "metadata": {},
     "output_type": "execute_result"
    }
   ],
   "source": [
    "df = pd.read_excel('Cars.xlsx', sheet_name='Audi')\n",
    "df"
   ]
  },
  {
   "cell_type": "code",
   "execution_count": 34,
   "id": "1c8d50d3",
   "metadata": {},
   "outputs": [
    {
     "name": "stdout",
     "output_type": "stream",
     "text": [
      "<class 'pandas.core.frame.DataFrame'>\n",
      "RangeIndex: 300 entries, 0 to 299\n",
      "Data columns (total 9 columns):\n",
      " #   Column            Non-Null Count  Dtype  \n",
      "---  ------            --------------  -----  \n",
      " 0   model             300 non-null    object \n",
      " 1   year              300 non-null    int64  \n",
      " 2   price             300 non-null    int64  \n",
      " 3   type              300 non-null    object \n",
      " 4   distance          300 non-null    int64  \n",
      " 5   fuel              300 non-null    object \n",
      " 6   tax               300 non-null    int64  \n",
      " 7   miles per galoon  300 non-null    float64\n",
      " 8   size              300 non-null    float64\n",
      "dtypes: float64(2), int64(4), object(3)\n",
      "memory usage: 21.2+ KB\n"
     ]
    }
   ],
   "source": [
    "df.info()"
   ]
  },
  {
   "cell_type": "markdown",
   "id": "c3f73f0f",
   "metadata": {},
   "source": [
    "В датасете нет пропущенных знвчений"
   ]
  },
  {
   "cell_type": "code",
   "execution_count": 35,
   "id": "edd934c8",
   "metadata": {},
   "outputs": [
    {
     "data": {
      "text/plain": [
       "model               0\n",
       "year                0\n",
       "price               0\n",
       "type                0\n",
       "distance            0\n",
       "fuel                0\n",
       "tax                 0\n",
       "miles per galoon    0\n",
       "size                0\n",
       "dtype: int64"
      ]
     },
     "execution_count": 35,
     "metadata": {},
     "output_type": "execute_result"
    }
   ],
   "source": [
    "df.isnull().sum()"
   ]
  },
  {
   "cell_type": "code",
   "execution_count": 36,
   "id": "a6d364cf",
   "metadata": {},
   "outputs": [
    {
     "data": {
      "text/plain": [
       "model                object\n",
       "year                  int64\n",
       "price                 int64\n",
       "type                 object\n",
       "distance              int64\n",
       "fuel                 object\n",
       "tax                   int64\n",
       "miles per galoon    float64\n",
       "size                float64\n",
       "dtype: object"
      ]
     },
     "execution_count": 36,
     "metadata": {},
     "output_type": "execute_result"
    }
   ],
   "source": [
    "df.dtypes"
   ]
  },
  {
   "cell_type": "code",
   "execution_count": 37,
   "id": "855c8b69",
   "metadata": {},
   "outputs": [
    {
     "data": {
      "text/html": [
       "<div>\n",
       "<style scoped>\n",
       "    .dataframe tbody tr th:only-of-type {\n",
       "        vertical-align: middle;\n",
       "    }\n",
       "\n",
       "    .dataframe tbody tr th {\n",
       "        vertical-align: top;\n",
       "    }\n",
       "\n",
       "    .dataframe thead th {\n",
       "        text-align: right;\n",
       "    }\n",
       "</style>\n",
       "<table border=\"1\" class=\"dataframe\">\n",
       "  <thead>\n",
       "    <tr style=\"text-align: right;\">\n",
       "      <th></th>\n",
       "      <th>year</th>\n",
       "      <th>price</th>\n",
       "      <th>distance</th>\n",
       "      <th>tax</th>\n",
       "      <th>miles per galoon</th>\n",
       "      <th>size</th>\n",
       "    </tr>\n",
       "  </thead>\n",
       "  <tbody>\n",
       "    <tr>\n",
       "      <th>count</th>\n",
       "      <td>300.000000</td>\n",
       "      <td>300.000000</td>\n",
       "      <td>300.000000</td>\n",
       "      <td>300.000000</td>\n",
       "      <td>300.000000</td>\n",
       "      <td>300.000000</td>\n",
       "    </tr>\n",
       "    <tr>\n",
       "      <th>mean</th>\n",
       "      <td>2016.903333</td>\n",
       "      <td>21201.936667</td>\n",
       "      <td>26023.270000</td>\n",
       "      <td>119.200000</td>\n",
       "      <td>52.994333</td>\n",
       "      <td>1.891333</td>\n",
       "    </tr>\n",
       "    <tr>\n",
       "      <th>std</th>\n",
       "      <td>1.642044</td>\n",
       "      <td>9048.900688</td>\n",
       "      <td>20151.244484</td>\n",
       "      <td>60.884176</td>\n",
       "      <td>10.396195</td>\n",
       "      <td>0.499423</td>\n",
       "    </tr>\n",
       "    <tr>\n",
       "      <th>min</th>\n",
       "      <td>2013.000000</td>\n",
       "      <td>7000.000000</td>\n",
       "      <td>10.000000</td>\n",
       "      <td>0.000000</td>\n",
       "      <td>32.800000</td>\n",
       "      <td>1.000000</td>\n",
       "    </tr>\n",
       "    <tr>\n",
       "      <th>25%</th>\n",
       "      <td>2016.000000</td>\n",
       "      <td>14993.750000</td>\n",
       "      <td>10203.750000</td>\n",
       "      <td>30.000000</td>\n",
       "      <td>47.100000</td>\n",
       "      <td>1.500000</td>\n",
       "    </tr>\n",
       "    <tr>\n",
       "      <th>50%</th>\n",
       "      <td>2017.000000</td>\n",
       "      <td>18970.000000</td>\n",
       "      <td>22476.000000</td>\n",
       "      <td>145.000000</td>\n",
       "      <td>50.400000</td>\n",
       "      <td>2.000000</td>\n",
       "    </tr>\n",
       "    <tr>\n",
       "      <th>75%</th>\n",
       "      <td>2018.000000</td>\n",
       "      <td>25991.250000</td>\n",
       "      <td>35390.000000</td>\n",
       "      <td>145.000000</td>\n",
       "      <td>61.400000</td>\n",
       "      <td>2.000000</td>\n",
       "    </tr>\n",
       "    <tr>\n",
       "      <th>max</th>\n",
       "      <td>2020.000000</td>\n",
       "      <td>56985.000000</td>\n",
       "      <td>98940.000000</td>\n",
       "      <td>300.000000</td>\n",
       "      <td>83.100000</td>\n",
       "      <td>3.000000</td>\n",
       "    </tr>\n",
       "  </tbody>\n",
       "</table>\n",
       "</div>"
      ],
      "text/plain": [
       "              year         price      distance         tax  miles per galoon  \\\n",
       "count   300.000000    300.000000    300.000000  300.000000        300.000000   \n",
       "mean   2016.903333  21201.936667  26023.270000  119.200000         52.994333   \n",
       "std       1.642044   9048.900688  20151.244484   60.884176         10.396195   \n",
       "min    2013.000000   7000.000000     10.000000    0.000000         32.800000   \n",
       "25%    2016.000000  14993.750000  10203.750000   30.000000         47.100000   \n",
       "50%    2017.000000  18970.000000  22476.000000  145.000000         50.400000   \n",
       "75%    2018.000000  25991.250000  35390.000000  145.000000         61.400000   \n",
       "max    2020.000000  56985.000000  98940.000000  300.000000         83.100000   \n",
       "\n",
       "             size  \n",
       "count  300.000000  \n",
       "mean     1.891333  \n",
       "std      0.499423  \n",
       "min      1.000000  \n",
       "25%      1.500000  \n",
       "50%      2.000000  \n",
       "75%      2.000000  \n",
       "max      3.000000  "
      ]
     },
     "execution_count": 37,
     "metadata": {},
     "output_type": "execute_result"
    }
   ],
   "source": [
    "df.describe()"
   ]
  },
  {
   "cell_type": "code",
   "execution_count": 38,
   "id": "5306d592",
   "metadata": {},
   "outputs": [
    {
     "data": {
      "text/plain": [
       "Index(['model', 'year', 'price', 'type', 'distance', 'fuel', 'tax',\n",
       "       'miles per galoon', 'size'],\n",
       "      dtype='object')"
      ]
     },
     "execution_count": 38,
     "metadata": {},
     "output_type": "execute_result"
    }
   ],
   "source": [
    "df.columns"
   ]
  },
  {
   "cell_type": "code",
   "execution_count": 39,
   "id": "fca2471a",
   "metadata": {},
   "outputs": [],
   "source": [
    "df.columns = ['model', 'year', 'price', 'type', 'distance', 'fuel', 'tax',\n",
    "       'miles per galoon', 'size']"
   ]
  },
  {
   "cell_type": "code",
   "execution_count": 40,
   "id": "db4fd0b8",
   "metadata": {},
   "outputs": [],
   "source": [
    "def outliers(df):\n",
    "    num_var = list(df._get_numeric_data().columns)\n",
    "    for col_names in num_var:\n",
    "        df[col_names] = df[col_names].apply(lambda y: df[col_names].mean()-3*df[col_names].std()\n",
    "                            if y < df[col_names].mean()-3*df[col_names].std() else y)\n",
    "        df[col_names] = df[col_names].apply(lambda y: df[col_names].mean()+3*df[col_names].std()\n",
    "                            if y > df[col_names].mean()+3*df[col_names].std() else y)\n",
    "    return(df)"
   ]
  },
  {
   "cell_type": "code",
   "execution_count": 41,
   "id": "c7596602",
   "metadata": {},
   "outputs": [
    {
     "data": {
      "text/html": [
       "<div>\n",
       "<style scoped>\n",
       "    .dataframe tbody tr th:only-of-type {\n",
       "        vertical-align: middle;\n",
       "    }\n",
       "\n",
       "    .dataframe tbody tr th {\n",
       "        vertical-align: top;\n",
       "    }\n",
       "\n",
       "    .dataframe thead th {\n",
       "        text-align: right;\n",
       "    }\n",
       "</style>\n",
       "<table border=\"1\" class=\"dataframe\">\n",
       "  <thead>\n",
       "    <tr style=\"text-align: right;\">\n",
       "      <th></th>\n",
       "      <th>year</th>\n",
       "      <th>price</th>\n",
       "      <th>distance</th>\n",
       "      <th>tax</th>\n",
       "      <th>miles per galoon</th>\n",
       "      <th>size</th>\n",
       "    </tr>\n",
       "  </thead>\n",
       "  <tbody>\n",
       "    <tr>\n",
       "      <th>count</th>\n",
       "      <td>300.000000</td>\n",
       "      <td>300.000000</td>\n",
       "      <td>300.000000</td>\n",
       "      <td>300.000000</td>\n",
       "      <td>300.000000</td>\n",
       "      <td>300.000000</td>\n",
       "    </tr>\n",
       "    <tr>\n",
       "      <th>mean</th>\n",
       "      <td>2016.903333</td>\n",
       "      <td>21126.687312</td>\n",
       "      <td>25919.846724</td>\n",
       "      <td>119.200000</td>\n",
       "      <td>52.994333</td>\n",
       "      <td>1.891333</td>\n",
       "    </tr>\n",
       "    <tr>\n",
       "      <th>std</th>\n",
       "      <td>1.642044</td>\n",
       "      <td>8793.663294</td>\n",
       "      <td>19812.278562</td>\n",
       "      <td>60.884176</td>\n",
       "      <td>10.396195</td>\n",
       "      <td>0.499423</td>\n",
       "    </tr>\n",
       "    <tr>\n",
       "      <th>min</th>\n",
       "      <td>2013.000000</td>\n",
       "      <td>7000.000000</td>\n",
       "      <td>10.000000</td>\n",
       "      <td>0.000000</td>\n",
       "      <td>32.800000</td>\n",
       "      <td>1.000000</td>\n",
       "    </tr>\n",
       "    <tr>\n",
       "      <th>25%</th>\n",
       "      <td>2016.000000</td>\n",
       "      <td>14993.750000</td>\n",
       "      <td>10203.750000</td>\n",
       "      <td>30.000000</td>\n",
       "      <td>47.100000</td>\n",
       "      <td>1.500000</td>\n",
       "    </tr>\n",
       "    <tr>\n",
       "      <th>50%</th>\n",
       "      <td>2017.000000</td>\n",
       "      <td>18970.000000</td>\n",
       "      <td>22476.000000</td>\n",
       "      <td>145.000000</td>\n",
       "      <td>50.400000</td>\n",
       "      <td>2.000000</td>\n",
       "    </tr>\n",
       "    <tr>\n",
       "      <th>75%</th>\n",
       "      <td>2018.000000</td>\n",
       "      <td>25991.250000</td>\n",
       "      <td>35390.000000</td>\n",
       "      <td>145.000000</td>\n",
       "      <td>61.400000</td>\n",
       "      <td>2.000000</td>\n",
       "    </tr>\n",
       "    <tr>\n",
       "      <th>max</th>\n",
       "      <td>2020.000000</td>\n",
       "      <td>48348.638730</td>\n",
       "      <td>86477.003452</td>\n",
       "      <td>300.000000</td>\n",
       "      <td>83.100000</td>\n",
       "      <td>3.000000</td>\n",
       "    </tr>\n",
       "  </tbody>\n",
       "</table>\n",
       "</div>"
      ],
      "text/plain": [
       "              year         price      distance         tax  miles per galoon  \\\n",
       "count   300.000000    300.000000    300.000000  300.000000        300.000000   \n",
       "mean   2016.903333  21126.687312  25919.846724  119.200000         52.994333   \n",
       "std       1.642044   8793.663294  19812.278562   60.884176         10.396195   \n",
       "min    2013.000000   7000.000000     10.000000    0.000000         32.800000   \n",
       "25%    2016.000000  14993.750000  10203.750000   30.000000         47.100000   \n",
       "50%    2017.000000  18970.000000  22476.000000  145.000000         50.400000   \n",
       "75%    2018.000000  25991.250000  35390.000000  145.000000         61.400000   \n",
       "max    2020.000000  48348.638730  86477.003452  300.000000         83.100000   \n",
       "\n",
       "             size  \n",
       "count  300.000000  \n",
       "mean     1.891333  \n",
       "std      0.499423  \n",
       "min      1.000000  \n",
       "25%      1.500000  \n",
       "50%      2.000000  \n",
       "75%      2.000000  \n",
       "max      3.000000  "
      ]
     },
     "execution_count": 41,
     "metadata": {},
     "output_type": "execute_result"
    }
   ],
   "source": [
    "df = outliers(df)\n",
    "df.describe()"
   ]
  },
  {
   "cell_type": "code",
   "execution_count": 42,
   "id": "d8f4497e",
   "metadata": {},
   "outputs": [
    {
     "data": {
      "text/plain": [
       "(300, 9)"
      ]
     },
     "execution_count": 42,
     "metadata": {},
     "output_type": "execute_result"
    }
   ],
   "source": [
    "df.shape"
   ]
  },
  {
   "cell_type": "code",
   "execution_count": 43,
   "id": "c6dfa6c0",
   "metadata": {},
   "outputs": [
    {
     "data": {
      "text/plain": [
       "3"
      ]
     },
     "execution_count": 43,
     "metadata": {},
     "output_type": "execute_result"
    }
   ],
   "source": [
    "df['type'].nunique()"
   ]
  },
  {
   "cell_type": "code",
   "execution_count": 44,
   "id": "468f2f3f",
   "metadata": {},
   "outputs": [
    {
     "name": "stdout",
     "output_type": "stream",
     "text": [
      "['Semi-Auto' 'Manual' 'Automatic']\n",
      "['Semi-Auto' 'Manual' 'Automatic']\n",
      "['Semi-Auto' 'Manual' 'Automatic']\n",
      "['Semi-Auto' 'Manual' 'Automatic']\n",
      "['Semi-Auto' 'Manual' 'Automatic']\n",
      "['Semi-Auto' 'Manual' 'Automatic']\n",
      "['Semi-Auto' 'Manual' 'Automatic']\n",
      "['Semi-Auto' 'Manual' 'Automatic']\n",
      "['Semi-Auto' 'Manual' 'Automatic']\n"
     ]
    }
   ],
   "source": [
    "for col in df:\n",
    "    print(df['type'].unique())"
   ]
  },
  {
   "cell_type": "code",
   "execution_count": 45,
   "id": "f0ab6e0d",
   "metadata": {},
   "outputs": [
    {
     "data": {
      "text/html": [
       "<div>\n",
       "<style scoped>\n",
       "    .dataframe tbody tr th:only-of-type {\n",
       "        vertical-align: middle;\n",
       "    }\n",
       "\n",
       "    .dataframe tbody tr th {\n",
       "        vertical-align: top;\n",
       "    }\n",
       "\n",
       "    .dataframe thead th {\n",
       "        text-align: right;\n",
       "    }\n",
       "</style>\n",
       "<table border=\"1\" class=\"dataframe\">\n",
       "  <thead>\n",
       "    <tr style=\"text-align: right;\">\n",
       "      <th></th>\n",
       "      <th>model</th>\n",
       "      <th>year</th>\n",
       "      <th>price</th>\n",
       "      <th>type</th>\n",
       "      <th>distance</th>\n",
       "      <th>fuel</th>\n",
       "      <th>tax</th>\n",
       "      <th>miles per galoon</th>\n",
       "      <th>size</th>\n",
       "    </tr>\n",
       "  </thead>\n",
       "  <tbody>\n",
       "    <tr>\n",
       "      <th>0</th>\n",
       "      <td>Q3</td>\n",
       "      <td>2016</td>\n",
       "      <td>21995.0</td>\n",
       "      <td>2</td>\n",
       "      <td>28526.0</td>\n",
       "      <td>Diesel</td>\n",
       "      <td>160</td>\n",
       "      <td>50.4</td>\n",
       "      <td>2.0</td>\n",
       "    </tr>\n",
       "    <tr>\n",
       "      <th>1</th>\n",
       "      <td>A4</td>\n",
       "      <td>2015</td>\n",
       "      <td>13995.0</td>\n",
       "      <td>1</td>\n",
       "      <td>27016.0</td>\n",
       "      <td>Diesel</td>\n",
       "      <td>30</td>\n",
       "      <td>62.8</td>\n",
       "      <td>2.0</td>\n",
       "    </tr>\n",
       "    <tr>\n",
       "      <th>2</th>\n",
       "      <td>A4</td>\n",
       "      <td>2016</td>\n",
       "      <td>18498.0</td>\n",
       "      <td>2</td>\n",
       "      <td>29845.0</td>\n",
       "      <td>Petrol</td>\n",
       "      <td>160</td>\n",
       "      <td>45.6</td>\n",
       "      <td>2.0</td>\n",
       "    </tr>\n",
       "    <tr>\n",
       "      <th>3</th>\n",
       "      <td>A5</td>\n",
       "      <td>2017</td>\n",
       "      <td>20000.0</td>\n",
       "      <td>0</td>\n",
       "      <td>44783.0</td>\n",
       "      <td>Diesel</td>\n",
       "      <td>145</td>\n",
       "      <td>62.8</td>\n",
       "      <td>2.0</td>\n",
       "    </tr>\n",
       "    <tr>\n",
       "      <th>4</th>\n",
       "      <td>Q3</td>\n",
       "      <td>2014</td>\n",
       "      <td>12300.0</td>\n",
       "      <td>0</td>\n",
       "      <td>43195.0</td>\n",
       "      <td>Diesel</td>\n",
       "      <td>200</td>\n",
       "      <td>47.9</td>\n",
       "      <td>2.0</td>\n",
       "    </tr>\n",
       "  </tbody>\n",
       "</table>\n",
       "</div>"
      ],
      "text/plain": [
       "  model  year    price  type  distance    fuel  tax  miles per galoon  size\n",
       "0    Q3  2016  21995.0     2   28526.0  Diesel  160              50.4   2.0\n",
       "1    A4  2015  13995.0     1   27016.0  Diesel   30              62.8   2.0\n",
       "2    A4  2016  18498.0     2   29845.0  Petrol  160              45.6   2.0\n",
       "3    A5  2017  20000.0     0   44783.0  Diesel  145              62.8   2.0\n",
       "4    Q3  2014  12300.0     0   43195.0  Diesel  200              47.9   2.0"
      ]
     },
     "execution_count": 45,
     "metadata": {},
     "output_type": "execute_result"
    }
   ],
   "source": [
    "#encoding transmission\n",
    "from sklearn import preprocessing\n",
    "df['type'] = preprocessing.LabelEncoder().fit_transform(df['type'])\n",
    "df.head(5)"
   ]
  },
  {
   "cell_type": "markdown",
   "id": "136c0f83",
   "metadata": {},
   "source": [
    "К числовому формату привели фактор type"
   ]
  },
  {
   "cell_type": "code",
   "execution_count": 46,
   "id": "efa676a9",
   "metadata": {},
   "outputs": [
    {
     "data": {
      "text/plain": [
       "2"
      ]
     },
     "execution_count": 46,
     "metadata": {},
     "output_type": "execute_result"
    }
   ],
   "source": [
    "df['fuel'].nunique()"
   ]
  },
  {
   "cell_type": "code",
   "execution_count": 47,
   "id": "db60c0ff",
   "metadata": {},
   "outputs": [
    {
     "name": "stdout",
     "output_type": "stream",
     "text": [
      "['Diesel' 'Petrol']\n",
      "['Diesel' 'Petrol']\n",
      "['Diesel' 'Petrol']\n",
      "['Diesel' 'Petrol']\n",
      "['Diesel' 'Petrol']\n",
      "['Diesel' 'Petrol']\n",
      "['Diesel' 'Petrol']\n",
      "['Diesel' 'Petrol']\n",
      "['Diesel' 'Petrol']\n"
     ]
    }
   ],
   "source": [
    "for col in df:\n",
    "    print(df['fuel'].unique())"
   ]
  },
  {
   "cell_type": "code",
   "execution_count": 48,
   "id": "5145daa4",
   "metadata": {},
   "outputs": [
    {
     "data": {
      "text/html": [
       "<div>\n",
       "<style scoped>\n",
       "    .dataframe tbody tr th:only-of-type {\n",
       "        vertical-align: middle;\n",
       "    }\n",
       "\n",
       "    .dataframe tbody tr th {\n",
       "        vertical-align: top;\n",
       "    }\n",
       "\n",
       "    .dataframe thead th {\n",
       "        text-align: right;\n",
       "    }\n",
       "</style>\n",
       "<table border=\"1\" class=\"dataframe\">\n",
       "  <thead>\n",
       "    <tr style=\"text-align: right;\">\n",
       "      <th></th>\n",
       "      <th>model</th>\n",
       "      <th>year</th>\n",
       "      <th>price</th>\n",
       "      <th>type</th>\n",
       "      <th>distance</th>\n",
       "      <th>fuel</th>\n",
       "      <th>tax</th>\n",
       "      <th>miles per galoon</th>\n",
       "      <th>size</th>\n",
       "    </tr>\n",
       "  </thead>\n",
       "  <tbody>\n",
       "    <tr>\n",
       "      <th>0</th>\n",
       "      <td>Q3</td>\n",
       "      <td>2016</td>\n",
       "      <td>21995.0</td>\n",
       "      <td>2</td>\n",
       "      <td>28526.0</td>\n",
       "      <td>0</td>\n",
       "      <td>160</td>\n",
       "      <td>50.4</td>\n",
       "      <td>2.0</td>\n",
       "    </tr>\n",
       "    <tr>\n",
       "      <th>1</th>\n",
       "      <td>A4</td>\n",
       "      <td>2015</td>\n",
       "      <td>13995.0</td>\n",
       "      <td>1</td>\n",
       "      <td>27016.0</td>\n",
       "      <td>0</td>\n",
       "      <td>30</td>\n",
       "      <td>62.8</td>\n",
       "      <td>2.0</td>\n",
       "    </tr>\n",
       "    <tr>\n",
       "      <th>2</th>\n",
       "      <td>A4</td>\n",
       "      <td>2016</td>\n",
       "      <td>18498.0</td>\n",
       "      <td>2</td>\n",
       "      <td>29845.0</td>\n",
       "      <td>1</td>\n",
       "      <td>160</td>\n",
       "      <td>45.6</td>\n",
       "      <td>2.0</td>\n",
       "    </tr>\n",
       "    <tr>\n",
       "      <th>3</th>\n",
       "      <td>A5</td>\n",
       "      <td>2017</td>\n",
       "      <td>20000.0</td>\n",
       "      <td>0</td>\n",
       "      <td>44783.0</td>\n",
       "      <td>0</td>\n",
       "      <td>145</td>\n",
       "      <td>62.8</td>\n",
       "      <td>2.0</td>\n",
       "    </tr>\n",
       "    <tr>\n",
       "      <th>4</th>\n",
       "      <td>Q3</td>\n",
       "      <td>2014</td>\n",
       "      <td>12300.0</td>\n",
       "      <td>0</td>\n",
       "      <td>43195.0</td>\n",
       "      <td>0</td>\n",
       "      <td>200</td>\n",
       "      <td>47.9</td>\n",
       "      <td>2.0</td>\n",
       "    </tr>\n",
       "  </tbody>\n",
       "</table>\n",
       "</div>"
      ],
      "text/plain": [
       "  model  year    price  type  distance  fuel  tax  miles per galoon  size\n",
       "0    Q3  2016  21995.0     2   28526.0     0  160              50.4   2.0\n",
       "1    A4  2015  13995.0     1   27016.0     0   30              62.8   2.0\n",
       "2    A4  2016  18498.0     2   29845.0     1  160              45.6   2.0\n",
       "3    A5  2017  20000.0     0   44783.0     0  145              62.8   2.0\n",
       "4    Q3  2014  12300.0     0   43195.0     0  200              47.9   2.0"
      ]
     },
     "execution_count": 48,
     "metadata": {},
     "output_type": "execute_result"
    }
   ],
   "source": [
    "#encoding fuel\n",
    "from sklearn import preprocessing\n",
    "df['fuel'] = preprocessing.LabelEncoder().fit_transform(df['fuel'])\n",
    "df.head(5)"
   ]
  },
  {
   "cell_type": "markdown",
   "id": "d2924953",
   "metadata": {},
   "source": [
    "К числовому формату привели фактор fuel"
   ]
  },
  {
   "cell_type": "code",
   "execution_count": 49,
   "id": "f2ea96b7",
   "metadata": {},
   "outputs": [
    {
     "data": {
      "text/plain": [
       "13"
      ]
     },
     "execution_count": 49,
     "metadata": {},
     "output_type": "execute_result"
    }
   ],
   "source": [
    "df['model'].nunique()"
   ]
  },
  {
   "cell_type": "code",
   "execution_count": 50,
   "id": "9557eeb6",
   "metadata": {},
   "outputs": [
    {
     "name": "stdout",
     "output_type": "stream",
     "text": [
      "['Q3' 'A4' 'A5' 'A1' 'A6' 'Q7' 'Q2' 'Q5' 'A3' 'TT' 'A8' 'Q8' 'S4']\n",
      "['Q3' 'A4' 'A5' 'A1' 'A6' 'Q7' 'Q2' 'Q5' 'A3' 'TT' 'A8' 'Q8' 'S4']\n",
      "['Q3' 'A4' 'A5' 'A1' 'A6' 'Q7' 'Q2' 'Q5' 'A3' 'TT' 'A8' 'Q8' 'S4']\n",
      "['Q3' 'A4' 'A5' 'A1' 'A6' 'Q7' 'Q2' 'Q5' 'A3' 'TT' 'A8' 'Q8' 'S4']\n",
      "['Q3' 'A4' 'A5' 'A1' 'A6' 'Q7' 'Q2' 'Q5' 'A3' 'TT' 'A8' 'Q8' 'S4']\n",
      "['Q3' 'A4' 'A5' 'A1' 'A6' 'Q7' 'Q2' 'Q5' 'A3' 'TT' 'A8' 'Q8' 'S4']\n",
      "['Q3' 'A4' 'A5' 'A1' 'A6' 'Q7' 'Q2' 'Q5' 'A3' 'TT' 'A8' 'Q8' 'S4']\n",
      "['Q3' 'A4' 'A5' 'A1' 'A6' 'Q7' 'Q2' 'Q5' 'A3' 'TT' 'A8' 'Q8' 'S4']\n",
      "['Q3' 'A4' 'A5' 'A1' 'A6' 'Q7' 'Q2' 'Q5' 'A3' 'TT' 'A8' 'Q8' 'S4']\n"
     ]
    }
   ],
   "source": [
    "for col in df:\n",
    "    print(df['model'].unique())"
   ]
  },
  {
   "cell_type": "code",
   "execution_count": 51,
   "id": "a7ea2a42",
   "metadata": {},
   "outputs": [
    {
     "data": {
      "text/html": [
       "<div>\n",
       "<style scoped>\n",
       "    .dataframe tbody tr th:only-of-type {\n",
       "        vertical-align: middle;\n",
       "    }\n",
       "\n",
       "    .dataframe tbody tr th {\n",
       "        vertical-align: top;\n",
       "    }\n",
       "\n",
       "    .dataframe thead th {\n",
       "        text-align: right;\n",
       "    }\n",
       "</style>\n",
       "<table border=\"1\" class=\"dataframe\">\n",
       "  <thead>\n",
       "    <tr style=\"text-align: right;\">\n",
       "      <th></th>\n",
       "      <th>model</th>\n",
       "      <th>year</th>\n",
       "      <th>price</th>\n",
       "      <th>type</th>\n",
       "      <th>distance</th>\n",
       "      <th>fuel</th>\n",
       "      <th>tax</th>\n",
       "      <th>miles per galoon</th>\n",
       "      <th>size</th>\n",
       "    </tr>\n",
       "  </thead>\n",
       "  <tbody>\n",
       "    <tr>\n",
       "      <th>0</th>\n",
       "      <td>7</td>\n",
       "      <td>2016</td>\n",
       "      <td>21995.00000</td>\n",
       "      <td>2</td>\n",
       "      <td>28526.0</td>\n",
       "      <td>0</td>\n",
       "      <td>160</td>\n",
       "      <td>50.4</td>\n",
       "      <td>2.0</td>\n",
       "    </tr>\n",
       "    <tr>\n",
       "      <th>1</th>\n",
       "      <td>2</td>\n",
       "      <td>2015</td>\n",
       "      <td>13995.00000</td>\n",
       "      <td>1</td>\n",
       "      <td>27016.0</td>\n",
       "      <td>0</td>\n",
       "      <td>30</td>\n",
       "      <td>62.8</td>\n",
       "      <td>2.0</td>\n",
       "    </tr>\n",
       "    <tr>\n",
       "      <th>2</th>\n",
       "      <td>2</td>\n",
       "      <td>2016</td>\n",
       "      <td>18498.00000</td>\n",
       "      <td>2</td>\n",
       "      <td>29845.0</td>\n",
       "      <td>1</td>\n",
       "      <td>160</td>\n",
       "      <td>45.6</td>\n",
       "      <td>2.0</td>\n",
       "    </tr>\n",
       "    <tr>\n",
       "      <th>3</th>\n",
       "      <td>3</td>\n",
       "      <td>2017</td>\n",
       "      <td>20000.00000</td>\n",
       "      <td>0</td>\n",
       "      <td>44783.0</td>\n",
       "      <td>0</td>\n",
       "      <td>145</td>\n",
       "      <td>62.8</td>\n",
       "      <td>2.0</td>\n",
       "    </tr>\n",
       "    <tr>\n",
       "      <th>4</th>\n",
       "      <td>7</td>\n",
       "      <td>2014</td>\n",
       "      <td>12300.00000</td>\n",
       "      <td>0</td>\n",
       "      <td>43195.0</td>\n",
       "      <td>0</td>\n",
       "      <td>200</td>\n",
       "      <td>47.9</td>\n",
       "      <td>2.0</td>\n",
       "    </tr>\n",
       "    <tr>\n",
       "      <th>5</th>\n",
       "      <td>0</td>\n",
       "      <td>2017</td>\n",
       "      <td>12500.00000</td>\n",
       "      <td>1</td>\n",
       "      <td>15735.0</td>\n",
       "      <td>1</td>\n",
       "      <td>150</td>\n",
       "      <td>55.4</td>\n",
       "      <td>1.4</td>\n",
       "    </tr>\n",
       "    <tr>\n",
       "      <th>6</th>\n",
       "      <td>0</td>\n",
       "      <td>2015</td>\n",
       "      <td>12995.00000</td>\n",
       "      <td>1</td>\n",
       "      <td>20042.0</td>\n",
       "      <td>1</td>\n",
       "      <td>30</td>\n",
       "      <td>57.6</td>\n",
       "      <td>1.4</td>\n",
       "    </tr>\n",
       "    <tr>\n",
       "      <th>7</th>\n",
       "      <td>4</td>\n",
       "      <td>2019</td>\n",
       "      <td>30985.00000</td>\n",
       "      <td>0</td>\n",
       "      <td>4445.0</td>\n",
       "      <td>0</td>\n",
       "      <td>145</td>\n",
       "      <td>47.9</td>\n",
       "      <td>2.0</td>\n",
       "    </tr>\n",
       "    <tr>\n",
       "      <th>8</th>\n",
       "      <td>9</td>\n",
       "      <td>2019</td>\n",
       "      <td>48348.63873</td>\n",
       "      <td>0</td>\n",
       "      <td>1510.0</td>\n",
       "      <td>0</td>\n",
       "      <td>145</td>\n",
       "      <td>33.2</td>\n",
       "      <td>3.0</td>\n",
       "    </tr>\n",
       "    <tr>\n",
       "      <th>9</th>\n",
       "      <td>7</td>\n",
       "      <td>2016</td>\n",
       "      <td>15500.00000</td>\n",
       "      <td>0</td>\n",
       "      <td>11863.0</td>\n",
       "      <td>0</td>\n",
       "      <td>160</td>\n",
       "      <td>50.4</td>\n",
       "      <td>2.0</td>\n",
       "    </tr>\n",
       "  </tbody>\n",
       "</table>\n",
       "</div>"
      ],
      "text/plain": [
       "   model  year        price  type  distance  fuel  tax  miles per galoon  size\n",
       "0      7  2016  21995.00000     2   28526.0     0  160              50.4   2.0\n",
       "1      2  2015  13995.00000     1   27016.0     0   30              62.8   2.0\n",
       "2      2  2016  18498.00000     2   29845.0     1  160              45.6   2.0\n",
       "3      3  2017  20000.00000     0   44783.0     0  145              62.8   2.0\n",
       "4      7  2014  12300.00000     0   43195.0     0  200              47.9   2.0\n",
       "5      0  2017  12500.00000     1   15735.0     1  150              55.4   1.4\n",
       "6      0  2015  12995.00000     1   20042.0     1   30              57.6   1.4\n",
       "7      4  2019  30985.00000     0    4445.0     0  145              47.9   2.0\n",
       "8      9  2019  48348.63873     0    1510.0     0  145              33.2   3.0\n",
       "9      7  2016  15500.00000     0   11863.0     0  160              50.4   2.0"
      ]
     },
     "execution_count": 51,
     "metadata": {},
     "output_type": "execute_result"
    }
   ],
   "source": [
    "#encoding body\n",
    "from sklearn import preprocessing\n",
    "df['model'] = preprocessing.LabelEncoder().fit_transform(df['model'])\n",
    "df.head(10)"
   ]
  },
  {
   "cell_type": "markdown",
   "id": "f7aefd42",
   "metadata": {},
   "source": [
    "К числовому формату привели фактор model"
   ]
  },
  {
   "cell_type": "code",
   "execution_count": 52,
   "id": "b8cc5026",
   "metadata": {},
   "outputs": [
    {
     "data": {
      "text/plain": [
       "model                 int32\n",
       "year                  int64\n",
       "price               float64\n",
       "type                  int32\n",
       "distance            float64\n",
       "fuel                  int32\n",
       "tax                   int64\n",
       "miles per galoon    float64\n",
       "size                float64\n",
       "dtype: object"
      ]
     },
     "execution_count": 52,
     "metadata": {},
     "output_type": "execute_result"
    }
   ],
   "source": [
    "df.dtypes"
   ]
  },
  {
   "cell_type": "markdown",
   "id": "6687a0f0",
   "metadata": {},
   "source": [
    "# Визуализация факторов"
   ]
  },
  {
   "cell_type": "code",
   "execution_count": 53,
   "id": "adbe1b42",
   "metadata": {},
   "outputs": [
    {
     "data": {
      "text/plain": [
       "<AxesSubplot:ylabel='Frequency'>"
      ]
     },
     "execution_count": 53,
     "metadata": {},
     "output_type": "execute_result"
    },
    {
     "data": {
      "image/png": "[encoded data removed]",
      "text/plain": [
       "<Figure size 432x288 with 1 Axes>"
      ]
     },
     "metadata": {
      "needs_background": "light"
     },
     "output_type": "display_data"
    }
   ],
   "source": [
    "df['price'].plot(kind = 'hist')"
   ]
  },
  {
   "cell_type": "markdown",
   "id": "1d94ee3f",
   "metadata": {},
   "source": [
    "Для большиства моделей цена варьируется от 15 до 20 тыс. у.е."
   ]
  },
  {
   "cell_type": "code",
   "execution_count": 54,
   "id": "1e25713f",
   "metadata": {},
   "outputs": [
    {
     "data": {
      "text/plain": [
       "<AxesSubplot:ylabel='Frequency'>"
      ]
     },
     "execution_count": 54,
     "metadata": {},
     "output_type": "execute_result"
    },
    {
     "data": {
      "image/png": "[encoded data removed]",
      "text/plain": [
       "<Figure size 432x288 with 1 Axes>"
      ]
     },
     "metadata": {
      "needs_background": "light"
     },
     "output_type": "display_data"
    }
   ],
   "source": [
    "df['year'].plot(kind = 'hist')"
   ]
  },
  {
   "cell_type": "markdown",
   "id": "bc452952",
   "metadata": {},
   "source": [
    "Большинство моделей 2016-2017 года выпуска"
   ]
  },
  {
   "cell_type": "code",
   "execution_count": 55,
   "id": "a6e1b1bf",
   "metadata": {},
   "outputs": [
    {
     "data": {
      "text/plain": [
       "<AxesSubplot:ylabel='Frequency'>"
      ]
     },
     "execution_count": 55,
     "metadata": {},
     "output_type": "execute_result"
    },
    {
     "data": {
      "image/png": "[encoded data removed]",
      "text/plain": [
       "<Figure size 432x288 with 1 Axes>"
      ]
     },
     "metadata": {
      "needs_background": "light"
     },
     "output_type": "display_data"
    }
   ],
   "source": [
    "df['model'].plot(kind = 'hist')"
   ]
  },
  {
   "cell_type": "markdown",
   "id": "70b7a4f2",
   "metadata": {},
   "source": [
    "Самая распространенная модель Q3"
   ]
  },
  {
   "cell_type": "code",
   "execution_count": 56,
   "id": "7ba5eab5",
   "metadata": {},
   "outputs": [
    {
     "data": {
      "text/plain": [
       "<AxesSubplot:ylabel='Frequency'>"
      ]
     },
     "execution_count": 56,
     "metadata": {},
     "output_type": "execute_result"
    },
    {
     "data": {
      "image/png": "[encoded data removed]",
      "text/plain": [
       "<Figure size 432x288 with 1 Axes>"
      ]
     },
     "metadata": {
      "needs_background": "light"
     },
     "output_type": "display_data"
    }
   ],
   "source": [
    "df['type'].plot(kind = 'hist')"
   ]
  },
  {
   "cell_type": "markdown",
   "id": "d49415df",
   "metadata": {},
   "source": [
    "Самая распространенная коробка передач - Manual"
   ]
  },
  {
   "cell_type": "code",
   "execution_count": 57,
   "id": "5f0634cf",
   "metadata": {},
   "outputs": [
    {
     "data": {
      "text/plain": [
       "<AxesSubplot:ylabel='Frequency'>"
      ]
     },
     "execution_count": 57,
     "metadata": {},
     "output_type": "execute_result"
    },
    {
     "data": {
      "image/png": "[encoded data removed]",
      "text/plain": [
       "<Figure size 432x288 with 1 Axes>"
      ]
     },
     "metadata": {
      "needs_background": "light"
     },
     "output_type": "display_data"
    }
   ],
   "source": [
    "df['distance'].plot(kind = 'hist')"
   ]
  },
  {
   "cell_type": "markdown",
   "id": "91cf4d2f",
   "metadata": {},
   "source": [
    "Большинство автомобилей имеют пробег до 35 тыс. км"
   ]
  },
  {
   "cell_type": "code",
   "execution_count": 58,
   "id": "d6da7c3a",
   "metadata": {},
   "outputs": [
    {
     "data": {
      "text/plain": [
       "<AxesSubplot:ylabel='Frequency'>"
      ]
     },
     "execution_count": 58,
     "metadata": {},
     "output_type": "execute_result"
    },
    {
     "data": {
      "image/png": "[encoded data removed]",
      "text/plain": [
       "<Figure size 432x288 with 1 Axes>"
      ]
     },
     "metadata": {
      "needs_background": "light"
     },
     "output_type": "display_data"
    }
   ],
   "source": [
    "df['tax'].plot(kind = 'hist')"
   ]
  },
  {
   "cell_type": "markdown",
   "id": "380e824d",
   "metadata": {},
   "source": [
    "Преимущественное большиство моделей выборки имеют налог 125-150 у.е."
   ]
  },
  {
   "cell_type": "code",
   "execution_count": 59,
   "id": "ec6feae8",
   "metadata": {},
   "outputs": [
    {
     "data": {
      "text/plain": [
       "<AxesSubplot:ylabel='Frequency'>"
      ]
     },
     "execution_count": 59,
     "metadata": {},
     "output_type": "execute_result"
    },
    {
     "data": {
      "image/png": "[encoded data removed]",
      "text/plain": [
       "<Figure size 432x288 with 1 Axes>"
      ]
     },
     "metadata": {
      "needs_background": "light"
     },
     "output_type": "display_data"
    }
   ],
   "source": [
    "df['miles per galoon'].plot(kind = 'hist')"
   ]
  },
  {
   "cell_type": "markdown",
   "id": "4ddb2a2a",
   "metadata": {},
   "source": [
    "78 моделей имеют расход топлива 50-55 миль на галлон "
   ]
  },
  {
   "cell_type": "code",
   "execution_count": 60,
   "id": "b1d235a5",
   "metadata": {},
   "outputs": [
    {
     "data": {
      "text/plain": [
       "<AxesSubplot:ylabel='Frequency'>"
      ]
     },
     "execution_count": 60,
     "metadata": {},
     "output_type": "execute_result"
    },
    {
     "data": {
      "image/png": "[encoded data removed]",
      "text/plain": [
       "<Figure size 432x288 with 1 Axes>"
      ]
     },
     "metadata": {
      "needs_background": "light"
     },
     "output_type": "display_data"
    }
   ],
   "source": [
    "df['size'].plot(kind = 'hist')"
   ]
  },
  {
   "cell_type": "markdown",
   "id": "541e92f0",
   "metadata": {},
   "source": [
    "Самый распространенный объем двигателя - 2.0 л"
   ]
  },
  {
   "cell_type": "code",
   "execution_count": 61,
   "id": "9f38409f",
   "metadata": {},
   "outputs": [],
   "source": [
    "df.to_csv('cars1.csv', sep=',', index=False)"
   ]
  },
  {
   "cell_type": "code",
   "execution_count": 62,
   "id": "5812dfea",
   "metadata": {},
   "outputs": [
    {
     "data": {
      "image/png": "[encoded data removed]",
      "text/plain": [
       "<Figure size 864x648 with 2 Axes>"
      ]
     },
     "metadata": {
      "needs_background": "light"
     },
     "output_type": "display_data"
    }
   ],
   "source": [
    "import seaborn as sns\n",
    "corrmat = df.corr()\n",
    "f, ax = plt.subplots(figsize=(12, 9))\n",
    "sns.heatmap(corrmat, annot=True)\n",
    "plt.show()"
   ]
  },
  {
   "cell_type": "markdown",
   "id": "19f3d9b5",
   "metadata": {},
   "source": [
    "Наибольшая корреляция между факторами Цена и Год "
   ]
  },
  {
   "cell_type": "code",
   "execution_count": 63,
   "id": "40f91584",
   "metadata": {},
   "outputs": [
    {
     "data": {
      "text/html": [
       "<div>\n",
       "<style scoped>\n",
       "    .dataframe tbody tr th:only-of-type {\n",
       "        vertical-align: middle;\n",
       "    }\n",
       "\n",
       "    .dataframe tbody tr th {\n",
       "        vertical-align: top;\n",
       "    }\n",
       "\n",
       "    .dataframe thead th {\n",
       "        text-align: right;\n",
       "    }\n",
       "</style>\n",
       "<table border=\"1\" class=\"dataframe\">\n",
       "  <thead>\n",
       "    <tr style=\"text-align: right;\">\n",
       "      <th></th>\n",
       "      <th>model</th>\n",
       "      <th>year</th>\n",
       "      <th>price</th>\n",
       "      <th>type</th>\n",
       "      <th>distance</th>\n",
       "      <th>fuel</th>\n",
       "      <th>tax</th>\n",
       "      <th>miles per galoon</th>\n",
       "      <th>size</th>\n",
       "    </tr>\n",
       "  </thead>\n",
       "  <tbody>\n",
       "    <tr>\n",
       "      <th>count</th>\n",
       "      <td>300.000000</td>\n",
       "      <td>300.000000</td>\n",
       "      <td>300.000000</td>\n",
       "      <td>300.000000</td>\n",
       "      <td>300.000000</td>\n",
       "      <td>300.000000</td>\n",
       "      <td>300.000000</td>\n",
       "      <td>300.000000</td>\n",
       "      <td>300.000000</td>\n",
       "    </tr>\n",
       "    <tr>\n",
       "      <th>mean</th>\n",
       "      <td>3.860000</td>\n",
       "      <td>2016.903333</td>\n",
       "      <td>21126.687312</td>\n",
       "      <td>1.113333</td>\n",
       "      <td>25919.846724</td>\n",
       "      <td>0.463333</td>\n",
       "      <td>119.200000</td>\n",
       "      <td>52.994333</td>\n",
       "      <td>1.891333</td>\n",
       "    </tr>\n",
       "    <tr>\n",
       "      <th>std</th>\n",
       "      <td>2.974878</td>\n",
       "      <td>1.642044</td>\n",
       "      <td>8793.663294</td>\n",
       "      <td>0.727268</td>\n",
       "      <td>19812.278562</td>\n",
       "      <td>0.499487</td>\n",
       "      <td>60.884176</td>\n",
       "      <td>10.396195</td>\n",
       "      <td>0.499423</td>\n",
       "    </tr>\n",
       "    <tr>\n",
       "      <th>min</th>\n",
       "      <td>0.000000</td>\n",
       "      <td>2013.000000</td>\n",
       "      <td>7000.000000</td>\n",
       "      <td>0.000000</td>\n",
       "      <td>10.000000</td>\n",
       "      <td>0.000000</td>\n",
       "      <td>0.000000</td>\n",
       "      <td>32.800000</td>\n",
       "      <td>1.000000</td>\n",
       "    </tr>\n",
       "    <tr>\n",
       "      <th>25%</th>\n",
       "      <td>1.000000</td>\n",
       "      <td>2016.000000</td>\n",
       "      <td>14993.750000</td>\n",
       "      <td>1.000000</td>\n",
       "      <td>10203.750000</td>\n",
       "      <td>0.000000</td>\n",
       "      <td>30.000000</td>\n",
       "      <td>47.100000</td>\n",
       "      <td>1.500000</td>\n",
       "    </tr>\n",
       "    <tr>\n",
       "      <th>50%</th>\n",
       "      <td>3.000000</td>\n",
       "      <td>2017.000000</td>\n",
       "      <td>18970.000000</td>\n",
       "      <td>1.000000</td>\n",
       "      <td>22476.000000</td>\n",
       "      <td>0.000000</td>\n",
       "      <td>145.000000</td>\n",
       "      <td>50.400000</td>\n",
       "      <td>2.000000</td>\n",
       "    </tr>\n",
       "    <tr>\n",
       "      <th>75%</th>\n",
       "      <td>7.000000</td>\n",
       "      <td>2018.000000</td>\n",
       "      <td>25991.250000</td>\n",
       "      <td>2.000000</td>\n",
       "      <td>35390.000000</td>\n",
       "      <td>1.000000</td>\n",
       "      <td>145.000000</td>\n",
       "      <td>61.400000</td>\n",
       "      <td>2.000000</td>\n",
       "    </tr>\n",
       "    <tr>\n",
       "      <th>max</th>\n",
       "      <td>12.000000</td>\n",
       "      <td>2020.000000</td>\n",
       "      <td>48348.638730</td>\n",
       "      <td>2.000000</td>\n",
       "      <td>86477.003452</td>\n",
       "      <td>1.000000</td>\n",
       "      <td>300.000000</td>\n",
       "      <td>83.100000</td>\n",
       "      <td>3.000000</td>\n",
       "    </tr>\n",
       "  </tbody>\n",
       "</table>\n",
       "</div>"
      ],
      "text/plain": [
       "            model         year         price        type      distance  \\\n",
       "count  300.000000   300.000000    300.000000  300.000000    300.000000   \n",
       "mean     3.860000  2016.903333  21126.687312    1.113333  25919.846724   \n",
       "std      2.974878     1.642044   8793.663294    0.727268  19812.278562   \n",
       "min      0.000000  2013.000000   7000.000000    0.000000     10.000000   \n",
       "25%      1.000000  2016.000000  14993.750000    1.000000  10203.750000   \n",
       "50%      3.000000  2017.000000  18970.000000    1.000000  22476.000000   \n",
       "75%      7.000000  2018.000000  25991.250000    2.000000  35390.000000   \n",
       "max     12.000000  2020.000000  48348.638730    2.000000  86477.003452   \n",
       "\n",
       "             fuel         tax  miles per galoon        size  \n",
       "count  300.000000  300.000000        300.000000  300.000000  \n",
       "mean     0.463333  119.200000         52.994333    1.891333  \n",
       "std      0.499487   60.884176         10.396195    0.499423  \n",
       "min      0.000000    0.000000         32.800000    1.000000  \n",
       "25%      0.000000   30.000000         47.100000    1.500000  \n",
       "50%      0.000000  145.000000         50.400000    2.000000  \n",
       "75%      1.000000  145.000000         61.400000    2.000000  \n",
       "max      1.000000  300.000000         83.100000    3.000000  "
      ]
     },
     "execution_count": 63,
     "metadata": {},
     "output_type": "execute_result"
    }
   ],
   "source": [
    "df.describe()"
   ]
  }
 ],
 "metadata": {
  "kernelspec": {
   "display_name": "Python 3",
   "language": "python",
   "name": "python3"
  },
  "language_info": {
   "codemirror_mode": {
    "name": "ipython",
    "version": 3
   },
   "file_extension": ".py",
   "mimetype": "text/x-python",
   "name": "python",
   "nbconvert_exporter": "python",
   "pygments_lexer": "ipython3",
   "version": "3.8.8"
  }
 },
 "nbformat": 4,
 "nbformat_minor": 5
}
